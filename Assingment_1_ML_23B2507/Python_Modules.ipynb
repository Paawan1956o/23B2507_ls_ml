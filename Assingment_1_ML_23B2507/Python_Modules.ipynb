{
  "cells": [
    {
      "cell_type": "markdown",
      "metadata": {
        "id": "nKMH5Y1T06vH"
      },
      "source": [
        "# Numpy Implementation"
      ]
    },
    {
      "cell_type": "code",
      "execution_count": 1,
      "metadata": {
        "colab": {
          "base_uri": "https://localhost:8080/",
          "height": 106
        },
        "id": "MM8X0T-p06HB",
        "outputId": "33c6927a-14d5-47be-b5a1-75fe21cfe461"
      },
      "outputs": [
        {
          "name": "stdout",
          "output_type": "stream",
          "text": [
            "Passed\n"
          ]
        }
      ],
      "source": [
        "import numpy as np  \n",
        "# Create a 2D Numpy array of size 1x3 with elements of your choice\n",
        "arr1=np.array([[1,2,3]])\n",
        "\n",
        "# Create a Numpy array of length 50 with zeroes as its elements\n",
        "arr2=np.zeros(50)\n",
        "\n",
        "#Create a Numpy array of length 3x2 with elements of your choice\n",
        "arr3=np.array([[1,2],[3,4],[5,6]])\n",
        "\n",
        "arr4=arr1@arr3\n",
        "\n",
        "#Change 5th element of arr2 to a different number\n",
        "#Your code here\n",
        "arr2[4]=1\n",
        "\n",
        "if np.shape(arr4)==(1,2) and arr2[4]!=0:\n",
        "  print(\"Passed\")\n",
        "else:\n",
        "  print(\"Fail\")"
      ]
    },
    {
      "cell_type": "code",
      "execution_count": 2,
      "metadata": {
        "id": "KNTXZFd13rgE"
      },
      "outputs": [],
      "source": [
        "\n",
        "I=np.eye(3)\n",
        "result=np.dot(I,9*I+1)"
      ]
    },
    {
      "cell_type": "markdown",
      "metadata": {
        "id": "rRrOxN-6FXAb"
      },
      "source": [
        "# Pandas Implementation"
      ]
    },
    {
      "cell_type": "code",
      "execution_count": 3,
      "metadata": {
        "id": "EaoIVtKIFenB"
      },
      "outputs": [
        {
          "name": "stdout",
          "output_type": "stream",
          "text": [
            "     Name  Age       City\n",
            "0  Ramesh   25  Bangalore\n",
            "1  Mahesh   30     Mumbai\n",
            "0    25\n",
            "1    30\n",
            "2    35\n",
            "Name: Age, dtype: int64\n"
          ]
        },
        {
          "name": "stderr",
          "output_type": "stream",
          "text": [
            "C:\\Users\\nenwa\\AppData\\Local\\Temp\\ipykernel_6384\\3067765900.py:31: FutureWarning: A value is trying to be set on a copy of a DataFrame or Series through chained assignment using an inplace method.\n",
            "The behavior will change in pandas 3.0. This inplace method will never work because the intermediate object on which we are setting values always behaves as a copy.\n",
            "\n",
            "For example, when doing 'df[col].method(value, inplace=True)', try using 'df.method({col: value}, inplace=True)' or df[col] = df[col].method(value) instead, to perform the operation inplace on the original object.\n",
            "\n",
            "\n",
            "  df2['Age'].fillna(df2['Age'].mean(), inplace=True)\n"
          ]
        }
      ],
      "source": [
        "import pandas as pd\n",
        "\n",
        "data = {\n",
        "    'Name': ['Ramesh', 'Mahesh', 'Suresh'],\n",
        "    'Age': [25, 30, 35],\n",
        "    'City': ['Bangalore', 'Mumbai', 'Delhi']\n",
        "}\n",
        "#Your code here\n",
        "df1= pd.DataFrame(data)\n",
        "#Display the first 2 rows of the data frame\n",
        "#Your code here\n",
        "print(df1.head(2))\n",
        "#Print the age column\n",
        "print(df1['Age'])\n",
        "#Your code here\n",
        "\n",
        "#Filter rows where age is greater than 26\n",
        "#Your code here\n",
        "df1.drop(df1[df1['Age'] <= 26].index, inplace = True)\n",
        "#Add a new column 'Country' with the value 'India' for all rows\n",
        "df1['Country']='India'\n",
        "#Your code here\n",
        "\n",
        "data1 = {\n",
        "    'Name': ['Ramesh', 'Mahesh', 'Suresh'],\n",
        "    'Age': [25, None, 35],\n",
        "    'City': ['Bangalore', 'Mumbai', 'Delhi']\n",
        "}\n",
        "\n",
        "df2= pd.DataFrame(data1)\n",
        "df2['Age'].fillna(df2['Age'].mean(), inplace=True)\n",
        "# Fill missing values in the 'Age' column with the mean age\n",
        "#Your code here"
      ]
    },
    {
      "cell_type": "markdown",
      "metadata": {
        "id": "uay3H4C8cboE"
      },
      "source": [
        "# Matplotlib Implementation"
      ]
    },
    {
      "cell_type": "code",
      "execution_count": 4,
      "metadata": {
        "colab": {
          "base_uri": "https://localhost:8080/",
          "height": 106
        },
        "id": "i4lccqVxcgE_",
        "outputId": "5f093bf0-5059-4031-d49f-511341e86114"
      },
      "outputs": [
        {
          "data": {
            "image/png": "[encoded data removed]",
            "text/plain": [
              "<Figure size 640x480 with 1 Axes>"
            ]
          },
          "metadata": {},
          "output_type": "display_data"
        }
      ],
      "source": [
        "import matplotlib.pyplot as plt\n",
        "#numpy module. Fill your code\n",
        "\n",
        "\n",
        "\n",
        "xpoints=np.array([1,2,3,4])\n",
        "ypoints=np.array([2,4,6,8])\n",
        "\n",
        "#Plot these points without drawing a line\n",
        "#Your code here\n",
        "#Plotting with marker: Plot these points with a marker(Star marker)\n",
        "#Your code here\n",
        "plt.scatter(xpoints,ypoints,marker='*')\n",
        "#Using fmt format, add circular marker,red color and Dashed line\n",
        "#Your code here\n",
        "plt.plot(xpoints,ypoints,'ro--')\n",
        "\n",
        "#Add xlabel,ylabel and title for the plot.\n",
        "#Your code here\n",
        "plt.xlabel('X-axis')\n",
        "plt.ylabel('Y-axis')\n",
        "#Create a scatter plot for xpoints and ypoints\n",
        "#Your code here\n",
        "\n",
        "#Set color to the scatter plot. Blue,Green,Red and yellow color for each point respectively\n",
        "plt.color_sequences=['b','g','r','y']"
      ]
    },
    {
      "cell_type": "markdown",
      "metadata": {
        "id": "pfe2Fv2tgKq5"
      },
      "source": [
        "# Miscellaneous Modules Implementation"
      ]
    },
    {
      "cell_type": "code",
      "execution_count": 5,
      "metadata": {
        "id": "a_bTz2PlgRah"
      },
      "outputs": [
        {
          "name": "stdout",
          "output_type": "stream",
          "text": [
            "30.5\n"
          ]
        }
      ],
      "source": [
        "import random\n",
        "import numpy as np\n",
        "\n",
        "#Set the seed of random to 20\n",
        "#Your code here\n",
        "np.random.seed(20)\n",
        "arr1=np.array([1,24,31,45,73,81,94,25])\n",
        "s=0\n",
        "for i in range(4):\n",
        "    s+=random.choice(arr1)\n",
        "s/=4\n",
        "print(s)\n",
        "#Using the random module pick 4 different random numbers from arr1 and return their sum.\n",
        "#Your code here"
      ]
    },
    {
      "cell_type": "code",
      "execution_count": null,
      "metadata": {},
      "outputs": [],
      "source": []
    }
  ],
  "metadata": {
    "colab": {
      "provenance": []
    },
    "kernelspec": {
      "display_name": "Python 3",
      "name": "python3"
    },
    "language_info": {
      "codemirror_mode": {
        "name": "ipython",
        "version": 3
      },
      "file_extension": ".py",
      "mimetype": "text/x-python",
      "name": "python",
      "nbconvert_exporter": "python",
      "pygments_lexer": "ipython3",
      "version": "3.12.0"
    }
  },
  "nbformat": 4,
  "nbformat_minor": 0
}
